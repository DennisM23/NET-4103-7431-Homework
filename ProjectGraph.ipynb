{
  "cells": [
    {
      "cell_type": "markdown",
      "source": [
        "#NET 4103/7431 Homework - Dennis Mejicanos"
      ],
      "metadata": {
        "id": "m0Y8e683PqIq"
      }
    },
    {
      "cell_type": "code",
      "execution_count": 1,
      "metadata": {
        "id": "CPvluvsA-PUM"
      },
      "outputs": [],
      "source": [
        "import networkx as nx\n",
        "import matplotlib.pylab as plt\n",
        "import numpy as np\n",
        "import os\n",
        "\n",
        "%matplotlib inline"
      ]
    },
    {
      "cell_type": "code",
      "source": [
        "from google.colab import drive\n",
        "drive.mount('/content/drive')"
      ],
      "metadata": {
        "colab": {
          "base_uri": "https://localhost:8080/"
        },
        "id": "rW83A8P_oJcb",
        "outputId": "7ba339e5-648c-41ce-8393-13570e8c1591"
      },
      "execution_count": 2,
      "outputs": [
        {
          "output_type": "stream",
          "name": "stdout",
          "text": [
            "Mounted at /content/drive\n"
          ]
        }
      ]
    },
    {
      "cell_type": "markdown",
      "metadata": {
        "id": "f0JQlI5M74VT"
      },
      "source": [
        "#Question 2: Social Network Analysis with the Facebook100 Dataset"
      ]
    },
    {
      "cell_type": "markdown",
      "metadata": {
        "id": "zsia32FG9jKR"
      },
      "source": [
        "We import Caltech, MIT, Johns Hopkins graphs from the Facebook dataset files from our Google Drive."
      ]
    },
    {
      "cell_type": "code",
      "execution_count": null,
      "metadata": {
        "id": "NNHIsKui6sCY"
      },
      "outputs": [],
      "source": [
        "Caltech = nx.read_graphml(\"/content/drive/MyDrive/GR/fb100/Caltech36.graphml\")\n",
        "MIT = nx.read_graphml(\"/content/drive/MyDrive/GR/fb100/MIT8.graphml\")\n",
        "JHopking = nx.read_graphml(\"/content/drive/MyDrive/GR/fb100/Johns Hopkins55.graphml\")"
      ]
    },
    {
      "cell_type": "markdown",
      "metadata": {
        "id": "EDYoV2ZZ_GRp"
      },
      "source": [
        "##Degree Distribution"
      ]
    },
    {
      "cell_type": "markdown",
      "metadata": {
        "id": "v9BudlrAkF1t"
      },
      "source": [
        "The following function plots degrees as a function of number of nodes, obtaining a list with the degrees of each node to be able to be graphed. It receives as parameters a graph that belongs to the Facebook 100 Dataset."
      ]
    },
    {
      "cell_type": "code",
      "execution_count": null,
      "metadata": {
        "id": "mPYuJAQk-7fo"
      },
      "outputs": [],
      "source": [
        "def deg_graph(G):\n",
        "  degree_sequence = sorted([d for n, d in G.degree()], reverse=True)\n",
        "\n",
        "  fig = plt.figure(\"Degree\", figsize=(10, 10))\n",
        "  axgrid = fig.add_gridspec(5, 4)\n",
        "\n",
        "  ax2 = fig.add_subplot(axgrid[3:, 2:])\n",
        "  ax2.bar(*np.unique(degree_sequence, return_counts=True))\n",
        "  ax2.set_title(\"Degree histogram\")\n",
        "  ax2.set_xlabel(\"Degree\")\n",
        "  ax2.set_ylabel(\"# of Nodes\")\n",
        "\n",
        "  fig.tight_layout()\n",
        "  plt.show()"
      ]
    },
    {
      "cell_type": "markdown",
      "metadata": {
        "id": "xJQr0QIn_mzS"
      },
      "source": [
        "###Caltech"
      ]
    },
    {
      "cell_type": "code",
      "execution_count": null,
      "metadata": {
        "colab": {
          "base_uri": "https://localhost:8080/"
        },
        "id": "ObGpBWmZ_jTM",
        "outputId": "41e1a227-2de6-4137-8a35-7afac1346137"
      },
      "outputs": [
        {
          "output_type": "display_data",
          "data": {
            "image/png": "[encoded data removed]",
            "text/plain": [
              "<Figure size 720x720 with 1 Axes>"
            ]
          },
          "metadata": {
            "needs_background": "light"
          }
        }
      ],
      "source": [
        "deg_graph(Caltech)"
      ]
    },
    {
      "cell_type": "markdown",
      "metadata": {
        "id": "IJ9g3o3_CEI2"
      },
      "source": [
        "###MIT"
      ]
    },
    {
      "cell_type": "code",
      "execution_count": null,
      "metadata": {
        "colab": {
          "base_uri": "https://localhost:8080/"
        },
        "id": "0s6N475sAKHd",
        "outputId": "1e10d7ae-ff78-44a4-cc80-a513f6c0afe4"
      },
      "outputs": [
        {
          "output_type": "display_data",
          "data": {
            "image/png": "[encoded data removed]",
            "text/plain": [
              "<Figure size 720x720 with 1 Axes>"
            ]
          },
          "metadata": {
            "needs_background": "light"
          }
        }
      ],
      "source": [
        "deg_graph(MIT)"
      ]
    },
    {
      "cell_type": "markdown",
      "metadata": {
        "id": "wWJxmbBKAMam"
      },
      "source": [
        "###Johns Hopkins"
      ]
    },
    {
      "cell_type": "code",
      "execution_count": null,
      "metadata": {
        "colab": {
          "base_uri": "https://localhost:8080/"
        },
        "id": "wjAZkZaQALnd",
        "outputId": "8782bc3f-211b-452c-b4ff-c658b2cdeaed"
      },
      "outputs": [
        {
          "output_type": "display_data",
          "data": {
            "image/png": "[encoded data removed]",
            "text/plain": [
              "<Figure size 720x720 with 1 Axes>"
            ]
          },
          "metadata": {
            "needs_background": "light"
          }
        }
      ],
      "source": [
        "deg_graph(JHopking)"
      ]
    },
    {
      "cell_type": "markdown",
      "metadata": {
        "id": "9hbsPRzQSBf-"
      },
      "source": [
        "\n",
        "###What are you able to conclude from these degree distributions?"
      ]
    },
    {
      "cell_type": "markdown",
      "metadata": {
        "id": "ZF9YOZ1XSHUh"
      },
      "source": [
        "We can observe through the graphs that there is a great variety of highly connected nodes but of a very low degree,, possibly they are new students who do not know anyone and therefore do not have as many connections."
      ]
    },
    {
      "cell_type": "markdown",
      "metadata": {
        "id": "9zK71uIuAfE2"
      },
      "source": [
        "##Clustering"
      ]
    },
    {
      "cell_type": "markdown",
      "metadata": {
        "id": "AOMey8p4AxOl"
      },
      "source": [
        "###Global Clustering"
      ]
    },
    {
      "cell_type": "markdown",
      "source": [
        "The next lines computes graph transitivity, the fraction of all possible triangles present in the graph received as parameter."
      ],
      "metadata": {
        "id": "CsOaXbM-HA44"
      }
    },
    {
      "cell_type": "code",
      "execution_count": null,
      "metadata": {
        "colab": {
          "base_uri": "https://localhost:8080/"
        },
        "id": "sY_v9IDFAWOq",
        "outputId": "180205cd-a94f-4637-af00-f00572bdbdbd"
      },
      "outputs": [
        {
          "output_type": "stream",
          "name": "stdout",
          "text": [
            "Global clustering of Caltech:  0.2912826901150874\n",
            "Global clustering of MIT:  0.18028845093502427\n",
            "Global clustering of John Hopkins:  0.19316123901594015\n"
          ]
        }
      ],
      "source": [
        "GCCaltech = nx.transitivity(Caltech)\n",
        "GCMIT = nx.transitivity(MIT)\n",
        "GCJHopking = nx.transitivity(JHopking)\n",
        "\n",
        "print('Global clustering of Caltech: ', GCCaltech)\n",
        "print('Global clustering of MIT: ', GCMIT)\n",
        "print('Global clustering of John Hopkins: ', GCJHopking)"
      ]
    },
    {
      "cell_type": "markdown",
      "metadata": {
        "id": "m98SJqa8BK7C"
      },
      "source": [
        "### Mean Local Clustering"
      ]
    },
    {
      "cell_type": "markdown",
      "source": [
        "The next lines computes  the average clustering coefficient for the graph received as parameter."
      ],
      "metadata": {
        "id": "H-DEU-B6IKHP"
      }
    },
    {
      "cell_type": "code",
      "execution_count": null,
      "metadata": {
        "colab": {
          "base_uri": "https://localhost:8080/"
        },
        "id": "QiyqtTYCBITV",
        "outputId": "00b43b7b-13c1-4d35-9723-62c4e015e54d"
      },
      "outputs": [
        {
          "output_type": "stream",
          "name": "stdout",
          "text": [
            "Mean local clustering of Caltech:  0.40929439048517247\n",
            "Mean local clustering of MIT:  0.2712187419501315\n",
            "Mean local clustering of John Hopkins:  0.26839307371293525\n"
          ]
        }
      ],
      "source": [
        "MLCCaltech = nx.average_clustering(Caltech)\n",
        "MLCMIT = nx.average_clustering(MIT)\n",
        "MLCJHopking = nx.average_clustering(JHopking)\n",
        "\n",
        "print('Mean local clustering of Caltech: ', MLCCaltech)\n",
        "print('Mean local clustering of MIT: ', MLCMIT)\n",
        "print('Mean local clustering of John Hopkins: ', MLCJHopking)"
      ]
    },
    {
      "cell_type": "markdown",
      "metadata": {
        "id": "or6I6ZvJBzHL"
      },
      "source": [
        "### Edge Density"
      ]
    },
    {
      "cell_type": "markdown",
      "source": [
        "The next lines computes  the density for the graph received as parameter."
      ],
      "metadata": {
        "id": "5t3YbqI0IdF_"
      }
    },
    {
      "cell_type": "code",
      "execution_count": null,
      "metadata": {
        "colab": {
          "base_uri": "https://localhost:8080/"
        },
        "id": "WRD9sa24BphL",
        "outputId": "0d034791-a5c9-43c4-e921-98a45b8af4e5"
      },
      "outputs": [
        {
          "output_type": "stream",
          "name": "stdout",
          "text": [
            "Edge Density of Caltech:  0.05640442132639792\n",
            "Edge Density of MIT:  0.012118119495041378\n",
            "Edge Density of John Hopkins:  0.013910200162372396\n"
          ]
        }
      ],
      "source": [
        "EDCaltech = nx.density(Caltech)\n",
        "EDMIT = nx.density(MIT)\n",
        "EDJHopking = nx.density(JHopking)\n",
        "\n",
        "print('Edge Density of Caltech: ', EDCaltech)\n",
        "print('Edge Density of MIT: ', EDMIT)\n",
        "print('Edge Density of John Hopkins: ', EDJHopking)"
      ]
    },
    {
      "cell_type": "markdown",
      "metadata": {
        "id": "kReh2sSQVZL1"
      },
      "source": [
        "###Should either of these networks be construed as sparse?"
      ]
    },
    {
      "cell_type": "markdown",
      "metadata": {
        "id": "B_Ho7LcaVa_W"
      },
      "source": [
        "They can be considered as sparse just by observing the previous results in the clustering part since they all have very low values , this agrees with the first part, in which we observed that the degree of most nodes was very low. What affirms the little interconnection between nodes."
      ]
    },
    {
      "cell_type": "markdown",
      "metadata": {
        "id": "-2-sE-xYCHt0"
      },
      "source": [
        "##Scatter Plot"
      ]
    },
    {
      "cell_type": "markdown",
      "metadata": {
        "id": "sFd4AIHBmXUi"
      },
      "source": [
        "###Degree Graphic"
      ]
    },
    {
      "cell_type": "markdown",
      "metadata": {
        "id": "g42Z5ct5k2Dc"
      },
      "source": [
        "The following function return a list of the degree of all the nodes. It receives as parameters a graph that belongs to the Facebook 100 Dataset."
      ]
    },
    {
      "cell_type": "code",
      "execution_count": null,
      "metadata": {
        "id": "aVrQ2nbNDEAP"
      },
      "outputs": [],
      "source": [
        "def plt_degree(G):\n",
        "  return [val for (node, val) in G.degree]"
      ]
    },
    {
      "cell_type": "markdown",
      "metadata": {
        "id": "l9IwOl2WmhsX"
      },
      "source": [
        "###Clustering"
      ]
    },
    {
      "cell_type": "markdown",
      "metadata": {
        "id": "F10UBF0smtKA"
      },
      "source": [
        "The following function return a list of clustering coefficient all the nodes. It receives as parameters a graph that belongs to the Facebook 100 Dataset."
      ]
    },
    {
      "cell_type": "code",
      "execution_count": null,
      "metadata": {
        "id": "HWRXhfyumjeR"
      },
      "outputs": [],
      "source": [
        "def plt_clustering(G):\n",
        "  return list(nx.clustering(G).values())"
      ]
    },
    {
      "cell_type": "markdown",
      "metadata": {
        "id": "K1kWxx-cDgL1"
      },
      "source": [
        "###Caltech"
      ]
    },
    {
      "cell_type": "code",
      "execution_count": null,
      "metadata": {
        "colab": {
          "base_uri": "https://localhost:8080/"
        },
        "id": "O1-ZvT35DcyR",
        "outputId": "59a316ba-e73d-4b17-8ee6-b7a02729432b"
      },
      "outputs": [
        {
          "output_type": "display_data",
          "data": {
            "image/png": "[encoded data removed]",
            "text/plain": [
              "<Figure size 432x288 with 1 Axes>"
            ]
          },
          "metadata": {
            "needs_background": "light"
          }
        }
      ],
      "source": [
        "plt.xlabel(r\"Degree\")\n",
        "plt.ylabel(r\"Local clustering\")\n",
        "\n",
        "plt.plot(plt_degree(Caltech), plt_clustering(Caltech),\"*\", color='red');"
      ]
    },
    {
      "cell_type": "markdown",
      "metadata": {
        "id": "934gfTsTDzfw"
      },
      "source": [
        "###MIT"
      ]
    },
    {
      "cell_type": "code",
      "execution_count": null,
      "metadata": {
        "colab": {
          "base_uri": "https://localhost:8080/"
        },
        "id": "2eCY3OqIDtsI",
        "outputId": "d8816c0f-f97d-4982-81d4-84ae6289eeba"
      },
      "outputs": [
        {
          "output_type": "display_data",
          "data": {
            "image/png": "[encoded data removed]",
            "text/plain": [
              "<Figure size 432x288 with 1 Axes>"
            ]
          },
          "metadata": {
            "needs_background": "light"
          }
        }
      ],
      "source": [
        "plt.xlabel(r\"Degree\")\n",
        "plt.ylabel(r\"Local clustering\")\n",
        "\n",
        "plt.plot(plt_degree(MIT), plt_clustering(MIT),'*', color='red');"
      ]
    },
    {
      "cell_type": "markdown",
      "metadata": {
        "id": "t_o7nqAsD7pW"
      },
      "source": [
        "###John Hopkins"
      ]
    },
    {
      "cell_type": "code",
      "execution_count": null,
      "metadata": {
        "colab": {
          "base_uri": "https://localhost:8080/"
        },
        "id": "TmY8asxrD4yR",
        "outputId": "e97266cd-c698-43fd-9c74-06320d60b3e3"
      },
      "outputs": [
        {
          "output_type": "display_data",
          "data": {
            "image/png": "[encoded data removed]",
            "text/plain": [
              "<Figure size 432x288 with 1 Axes>"
            ]
          },
          "metadata": {
            "needs_background": "light"
          }
        }
      ],
      "source": [
        "plt.xlabel(r\"Degree\")\n",
        "plt.ylabel(r\"Local clustering\")\n",
        "\n",
        "plt.plot(plt_degree(JHopking), plt_clustering(JHopking),'*', color='red');"
      ]
    },
    {
      "cell_type": "markdown",
      "metadata": {
        "id": "2N4BtV9bW23I"
      },
      "source": [
        "###Based on these calculations as well as your previous ones, are you able to draw any conclusions about any similarities or di\u000berences between the tree networks?"
      ]
    },
    {
      "cell_type": "markdown",
      "metadata": {
        "id": "gQ4kmJtSW5EJ"
      },
      "source": [
        "The first thing that can be easily observed is that the large number of nodes interconnected to small degrees can be seen in the 3 graphs, reaffirming the results in the first part. Of the 3 graphs, the one for MIT and John Hopkins are practically the same as they have an exponential behavior, unlike Caltech, which has more accumulation of nodes but in the central part of the clustering"
      ]
    },
    {
      "cell_type": "markdown",
      "metadata": {
        "id": "qsLBFdXseb_P"
      },
      "source": [
        "# Question 3: Social Network Analysis with the Facebook100 Dataset"
      ]
    },
    {
      "cell_type": "markdown",
      "metadata": {
        "id": "K5tfqeKKejez"
      },
      "source": [
        "We import the Facebook 100 dataset files from our Google Drive.\n",
        "\n",
        "\n",
        "\n"
      ]
    },
    {
      "cell_type": "code",
      "execution_count": null,
      "metadata": {
        "id": "1Rg05WMaelt5"
      },
      "outputs": [],
      "source": [
        "files = os.listdir('/content/drive/MyDrive/GR/fb100/')\n",
        "nf = len(files)"
      ]
    },
    {
      "cell_type": "markdown",
      "metadata": {
        "id": "z9GiyfNUfct6"
      },
      "source": [
        "By resource topic, we selected 20 files that belong to the Facebook 100 Dataset.\n"
      ]
    },
    {
      "cell_type": "code",
      "execution_count": null,
      "metadata": {
        "id": "O7E0fVkFfdz9"
      },
      "outputs": [],
      "source": [
        "Graphs = []\n",
        "for _ in range(20):\n",
        " Graphs.append(None)\n",
        "cont = 0\n",
        "for _ in range (20):\n",
        "  ruta = '/content/drive/MyDrive/GR/fb100/' + files[cont]\n",
        "  Graphs[cont] = nx.read_graphml(ruta)\n",
        "  cont += 1"
      ]
    },
    {
      "cell_type": "markdown",
      "metadata": {
        "id": "jI3eUMRVgA4v"
      },
      "source": [
        "##Assortativity Graphic"
      ]
    },
    {
      "cell_type": "markdown",
      "metadata": {
        "id": "qy0V7b6wgDCI"
      },
      "source": [
        "The following function plots assertiveness as a function of network size. It receives as parameters an attribute and the number of networks that belong to the Facebook 100 Dataset."
      ]
    },
    {
      "cell_type": "code",
      "execution_count": null,
      "metadata": {
        "id": "PQlmNSLvfrCB"
      },
      "outputs": [],
      "source": [
        "def assortativity_graphic(att, num_net):\n",
        "  attribute = []\n",
        "  size = []\n",
        "  for _ in range(num_net):\n",
        "    attribute.append(None)\n",
        "    size.append(None)\n",
        "  cont = 0\n",
        "  title = att.title() + \" Assortativity\"\n",
        "  for x in range(num_net):\n",
        "    attribute[cont] = nx.attribute_assortativity_coefficient(Graphs[cont], att)\n",
        "    size[cont] = Graphs[cont].size()\n",
        "    cont += 1\n",
        "  plt.xlabel(r\"Network Size \")\n",
        "  plt.ylabel(title)\n",
        "  plt.xscale('log')\n",
        "  plt.grid(axis='y', alpha=0.50)\n",
        "  plt.grid(axis='x', alpha=0.50)\n",
        "  plt.axhline(0, color='red', linestyle='dashed', linewidth=1)\n",
        "  plt.plot(size, attribute, '*', color='blue');"
      ]
    },
    {
      "cell_type": "markdown",
      "metadata": {
        "id": "fRHHqVMPg7S6"
      },
      "source": [
        "##Assortativity Degree Graphic"
      ]
    },
    {
      "cell_type": "markdown",
      "metadata": {
        "id": "alKTdpBBg9jo"
      },
      "source": [
        "The following function plots assertiveness as a function of network size. It receives as parameter the number of networks that belong to the Facebook 100 Dataset."
      ]
    },
    {
      "cell_type": "code",
      "execution_count": null,
      "metadata": {
        "id": "50rfBBWxg-9R"
      },
      "outputs": [],
      "source": [
        "def assortativity_degree_graphic(num_net):\n",
        "  attribute = []\n",
        "  size = []\n",
        "  for _ in range(num_net):\n",
        "    attribute.append(None)\n",
        "    size.append(None)\n",
        "  cont = 0\n",
        "  title =\"Degree Assortativity\"\n",
        "  for x in range(num_net):\n",
        "    attribute[cont] = nx.degree_assortativity_coefficient(Graphs[cont])\n",
        "    size[cont] = Graphs[cont].size()\n",
        "    cont += 1\n",
        "  plt.xlabel(r\"Network Size \")\n",
        "  plt.ylabel(title)\n",
        "  plt.xscale('log')\n",
        "  plt.grid(axis='y', alpha=0.50)\n",
        "  plt.grid(axis='x', alpha=0.50)\n",
        "  plt.axhline(0, color='red', linestyle='dashed', linewidth=1)\n",
        "  plt.plot(size, attribute, '*', color='blue');"
      ]
    },
    {
      "cell_type": "markdown",
      "metadata": {
        "id": "1Q56rnERhBu0"
      },
      "source": [
        "##Density Graphic"
      ]
    },
    {
      "cell_type": "markdown",
      "metadata": {
        "id": "GmZdGhfXhEJa"
      },
      "source": [
        "The following function plots assertiveness distribution. In this method, a continuous curve is drawn at every individual data point and all of these curves are then added together to make a single smooth density estimation. It receives as parameters an attribute and the number of networks that belong to the Facebook 100 Dataset."
      ]
    },
    {
      "cell_type": "code",
      "execution_count": null,
      "metadata": {
        "id": "tI6I05UbhFiW"
      },
      "outputs": [],
      "source": [
        "import seaborn as sns\n",
        "def density_graphic(att,num_net):\n",
        "  attribute = []\n",
        "  for _ in range(num_net):\n",
        "    attribute.append(None)\n",
        "  cont = 0\n",
        "  title = att.title() + \" Assortativity\"\n",
        "  for x in range(num_net):\n",
        "    attribute[cont] = nx.attribute_assortativity_coefficient(Graphs[cont], att)\n",
        "    cont += 1\n",
        "  sns.distplot(attribute, hist=False, kde=True, \n",
        "             bins=int(180/5), color = 'black', \n",
        "             hist_kws={'edgecolor':'black'},\n",
        "             kde_kws={'linewidth': 4})\n",
        "  plt.xlabel(title)\n",
        "  plt.grid(axis='y', alpha=0.50)\n",
        "  plt.grid(axis='x', alpha=0.50)\n",
        "  plt.xlim(left=-0.01)\n",
        "  plt.axvline(0, color='red', linestyle='dashed', linewidth=1)"
      ]
    },
    {
      "cell_type": "markdown",
      "metadata": {
        "id": "AC1zm4BzhHTe"
      },
      "source": [
        "##Density Degree Graphic"
      ]
    },
    {
      "cell_type": "markdown",
      "metadata": {
        "id": "4N62xHfYhJWa"
      },
      "source": [
        "The following function plots assertiveness distribution. In this method, a continuous curve is drawn at every individual data point and all of these curves are then added together to make a single smooth density estimation. It receives as parameter the number of networks that belong to the Facebook 100 Dataset."
      ]
    },
    {
      "cell_type": "code",
      "execution_count": null,
      "metadata": {
        "id": "buSD9nplhK1B"
      },
      "outputs": [],
      "source": [
        "import seaborn as sns\n",
        "def density_degree_graphic(num_net):\n",
        "  attribute = []\n",
        "  for _ in range(num_net):\n",
        "    attribute.append(None)\n",
        "  cont = 0\n",
        "  title =\"Degree Assortativity\"\n",
        "  for x in range(num_net):\n",
        "    attribute[cont] = nx.degree_assortativity_coefficient(Graphs[cont])\n",
        "    cont += 1\n",
        "  sns.distplot(attribute, hist=False, kde=True, \n",
        "             bins=int(180/5), color = 'darkblue', \n",
        "             hist_kws={'edgecolor':'black'},\n",
        "             kde_kws={'linewidth': 4})\n",
        "  plt.xlabel(title)\n",
        "  plt.grid(axis='y', alpha=0.50)\n",
        "  plt.grid(axis='x', alpha=0.50)\n",
        "  plt.xlim(left=-0.01)\n",
        "  plt.axvline(0, color='black', linestyle='dashed', linewidth=1)"
      ]
    },
    {
      "cell_type": "markdown",
      "metadata": {
        "id": "dWhP8ZcRhOSS"
      },
      "source": [
        "###Dorm"
      ]
    },
    {
      "cell_type": "code",
      "execution_count": null,
      "metadata": {
        "colab": {
          "base_uri": "https://localhost:8080/",
          "height": 283
        },
        "id": "lPOyUAAdhXnL",
        "outputId": "5bd96d76-9aa3-4a7f-899e-7aafe5ba3fe6"
      },
      "outputs": [
        {
          "output_type": "display_data",
          "data": {
            "image/png": "[encoded data removed]",
            "text/plain": [
              "<Figure size 432x288 with 1 Axes>"
            ]
          },
          "metadata": {
            "needs_background": "light"
          }
        }
      ],
      "source": [
        "assortativity_graphic(\"dorm\",20)"
      ]
    },
    {
      "cell_type": "code",
      "execution_count": null,
      "metadata": {
        "colab": {
          "base_uri": "https://localhost:8080/",
          "height": 334
        },
        "id": "zwE3C0KghaIA",
        "outputId": "78eb0539-c26b-4d58-f3d8-8c4a13ee4ce8"
      },
      "outputs": [
        {
          "output_type": "stream",
          "name": "stderr",
          "text": [
            "/usr/local/lib/python3.7/dist-packages/seaborn/distributions.py:2619: FutureWarning: `distplot` is a deprecated function and will be removed in a future version. Please adapt your code to use either `displot` (a figure-level function with similar flexibility) or `kdeplot` (an axes-level function for kernel density plots).\n",
            "  warnings.warn(msg, FutureWarning)\n"
          ]
        },
        {
          "output_type": "display_data",
          "data": {
            "image/png": "[encoded data removed]",
            "text/plain": [
              "<Figure size 432x288 with 1 Axes>"
            ]
          },
          "metadata": {
            "needs_background": "light"
          }
        }
      ],
      "source": [
        "density_graphic(\"dorm\",20)"
      ]
    },
    {
      "cell_type": "markdown",
      "metadata": {
        "id": "2hOQ1nM1hY1i"
      },
      "source": [
        "###Major"
      ]
    },
    {
      "cell_type": "code",
      "execution_count": null,
      "metadata": {
        "colab": {
          "base_uri": "https://localhost:8080/",
          "height": 283
        },
        "id": "7bVeTofLhdMN",
        "outputId": "c9843ecc-c7a5-488a-e834-31460f588564"
      },
      "outputs": [
        {
          "output_type": "display_data",
          "data": {
            "image/png": "[encoded data removed]",
            "text/plain": [
              "<Figure size 432x288 with 1 Axes>"
            ]
          },
          "metadata": {
            "needs_background": "light"
          }
        }
      ],
      "source": [
        "assortativity_graphic(\"major_index\",20)"
      ]
    },
    {
      "cell_type": "code",
      "execution_count": null,
      "metadata": {
        "colab": {
          "base_uri": "https://localhost:8080/",
          "height": 334
        },
        "id": "yBVizel5he2M",
        "outputId": "5efd9a08-38e6-4d49-b2ea-69b48b380316"
      },
      "outputs": [
        {
          "output_type": "stream",
          "name": "stderr",
          "text": [
            "/usr/local/lib/python3.7/dist-packages/seaborn/distributions.py:2619: FutureWarning: `distplot` is a deprecated function and will be removed in a future version. Please adapt your code to use either `displot` (a figure-level function with similar flexibility) or `kdeplot` (an axes-level function for kernel density plots).\n",
            "  warnings.warn(msg, FutureWarning)\n"
          ]
        },
        {
          "output_type": "display_data",
          "data": {
            "image/png": "[encoded data removed]",
            "text/plain": [
              "<Figure size 432x288 with 1 Axes>"
            ]
          },
          "metadata": {
            "needs_background": "light"
          }
        }
      ],
      "source": [
        "density_graphic(\"major_index\",20)"
      ]
    },
    {
      "cell_type": "markdown",
      "metadata": {
        "id": "dZpVLae_hhGN"
      },
      "source": [
        "###Student/Faculty Status"
      ]
    },
    {
      "cell_type": "code",
      "execution_count": null,
      "metadata": {
        "colab": {
          "base_uri": "https://localhost:8080/",
          "height": 283
        },
        "id": "QIl0VdX_hi1a",
        "outputId": "c6d04068-770d-4485-83bd-9bab041c837c"
      },
      "outputs": [
        {
          "output_type": "display_data",
          "data": {
            "image/png": "[encoded data removed]",
            "text/plain": [
              "<Figure size 432x288 with 1 Axes>"
            ]
          },
          "metadata": {
            "needs_background": "light"
          }
        }
      ],
      "source": [
        "assortativity_graphic(\"student_fac\",20)"
      ]
    },
    {
      "cell_type": "code",
      "execution_count": null,
      "metadata": {
        "colab": {
          "base_uri": "https://localhost:8080/",
          "height": 334
        },
        "id": "nzzKz6THhkew",
        "outputId": "c04f38e0-2052-4cbf-b95d-f5c257569965"
      },
      "outputs": [
        {
          "output_type": "stream",
          "name": "stderr",
          "text": [
            "/usr/local/lib/python3.7/dist-packages/seaborn/distributions.py:2619: FutureWarning: `distplot` is a deprecated function and will be removed in a future version. Please adapt your code to use either `displot` (a figure-level function with similar flexibility) or `kdeplot` (an axes-level function for kernel density plots).\n",
            "  warnings.warn(msg, FutureWarning)\n"
          ]
        },
        {
          "output_type": "display_data",
          "data": {
            "image/png": "[encoded data removed]",
            "text/plain": [
              "<Figure size 432x288 with 1 Axes>"
            ]
          },
          "metadata": {
            "needs_background": "light"
          }
        }
      ],
      "source": [
        "density_graphic(\"student_fac\",20)"
      ]
    },
    {
      "cell_type": "markdown",
      "metadata": {
        "id": "qv0tw6MKhlE8"
      },
      "source": [
        "###Degree"
      ]
    },
    {
      "cell_type": "code",
      "execution_count": null,
      "metadata": {
        "colab": {
          "base_uri": "https://localhost:8080/",
          "height": 283
        },
        "id": "P9J-6cpshm_i",
        "outputId": "5f4d9b69-23ec-4731-bad6-fa4afa0f243b"
      },
      "outputs": [
        {
          "output_type": "display_data",
          "data": {
            "image/png": "[encoded data removed]",
            "text/plain": [
              "<Figure size 432x288 with 1 Axes>"
            ]
          },
          "metadata": {
            "needs_background": "light"
          }
        }
      ],
      "source": [
        "assortativity_degree_graphic(20)"
      ]
    },
    {
      "cell_type": "code",
      "execution_count": null,
      "metadata": {
        "colab": {
          "base_uri": "https://localhost:8080/",
          "height": 334
        },
        "id": "Rnq0AohOhnZV",
        "outputId": "ccbd77d5-0925-4d7f-a8ec-aa2daeb022a3"
      },
      "outputs": [
        {
          "output_type": "stream",
          "name": "stderr",
          "text": [
            "/usr/local/lib/python3.7/dist-packages/seaborn/distributions.py:2619: FutureWarning: `distplot` is a deprecated function and will be removed in a future version. Please adapt your code to use either `displot` (a figure-level function with similar flexibility) or `kdeplot` (an axes-level function for kernel density plots).\n",
            "  warnings.warn(msg, FutureWarning)\n"
          ]
        },
        {
          "output_type": "display_data",
          "data": {
            "image/png": "[encoded data removed]",
            "text/plain": [
              "<Figure size 432x288 with 1 Axes>"
            ]
          },
          "metadata": {
            "needs_background": "light"
          }
        }
      ],
      "source": [
        "density_degree_graphic(20)"
      ]
    },
    {
      "cell_type": "markdown",
      "metadata": {
        "id": "YrqBoY4XhwGk"
      },
      "source": [
        "###Analysis"
      ]
    },
    {
      "cell_type": "code",
      "execution_count": null,
      "metadata": {
        "colab": {
          "base_uri": "https://localhost:8080/"
        },
        "id": "EWUcxlUghxk1",
        "outputId": "8afd3205-d8a1-4d14-ce32-2ab08f1835ce"
      },
      "outputs": [
        {
          "output_type": "stream",
          "name": "stdout",
          "text": [
            "0.17631148494206905\n",
            "0.46085880060278733\n",
            "0.05069448097957243\n",
            "0.06126868807106425\n",
            "314989\n"
          ]
        }
      ],
      "source": [
        "print(nx.attribute_assortativity_coefficient(Graphs[0], \"dorm\"))\n",
        "print(nx.attribute_assortativity_coefficient(Graphs[0], \"student_fac\"))\n",
        "print(nx.attribute_assortativity_coefficient(Graphs[0], \"major_index\"))\n",
        "print(nx.degree_assortativity_coefficient(Graphs[0]))\n",
        "print(Graphs[0].size())"
      ]
    },
    {
      "cell_type": "markdown",
      "metadata": {
        "id": "WJ4UHmkFh197"
      },
      "source": [
        "According to the results obtained in the graphs, it can be deduced that there is a greater number of connected nodes or connected students among students who study in the same faculty because possibly here they have a much more direct interaction since multiple activities can be carried out, instead with people. who share a bedroom according to the time of each person can only get to greet each other during the day, but that is not living together.\n"
      ]
    },
    {
      "cell_type": "markdown",
      "source": [
        "#Question 4: Link prediction"
      ],
      "metadata": {
        "id": "eiXjPY-SeuF5"
      }
    },
    {
      "cell_type": "markdown",
      "source": [
        "###Implement the following link prediction metrics: common neighbors, jaccard, Adamic/Adar.\n"
      ],
      "metadata": {
        "id": "38Evc5m75NJJ"
      }
    },
    {
      "cell_type": "code",
      "source": [
        "from random import randint\n",
        "import random"
      ],
      "metadata": {
        "id": "MniD0u5F-5zO"
      },
      "execution_count": 3,
      "outputs": []
    },
    {
      "cell_type": "markdown",
      "source": [
        "This function selects the percentage that will be used to calculate E_removed."
      ],
      "metadata": {
        "id": "rTM8wRIq6fv-"
      }
    },
    {
      "cell_type": "code",
      "source": [
        "def random_percentaje():\n",
        "  per = 0\n",
        "  test = randint(1,4)\n",
        "  if test == 1:\n",
        "    per = 0.05\n",
        "  elif test == 2:\n",
        "    per = 0.1\n",
        "  elif test == 3:\n",
        "    per = 0.15\n",
        "  elif test == 4:\n",
        "    per = 0.2\n",
        "  return per"
      ],
      "metadata": {
        "id": "4WQgdhtIWwcp"
      },
      "execution_count": 4,
      "outputs": []
    },
    {
      "cell_type": "markdown",
      "source": [
        "This function returns the Graph (e_removed) and the subset of links that were removed from the original Graph. It receives as parameters a graph and a percentage."
      ],
      "metadata": {
        "id": "LpHOwdGX7Adr"
      }
    },
    {
      "cell_type": "code",
      "source": [
        "def remove_edges(G,per):\n",
        "  n = G.number_of_edges()\n",
        "  e_removed = G \n",
        "  e_subset = random.sample(G.edges(), int(per*n))\n",
        "  e_removed.remove_edges_from(e_subset)\n",
        "  edge_subset_size = len(list(e_subset))\n",
        "  print(\"Deleted : \", str(edge_subset_size))\n",
        "  print(\"Remaining : \", str((n - edge_subset_size)))\n",
        "  return e_removed, e_subset"
      ],
      "metadata": {
        "id": "aBW3in2hfkE7"
      },
      "execution_count": 5,
      "outputs": []
    },
    {
      "cell_type": "markdown",
      "source": [
        " This function converts a list with triples (u,v,p) to a list with pairs (u,v)."
      ],
      "metadata": {
        "id": "BVEbHhz_7vOJ"
      }
    },
    {
      "cell_type": "code",
      "source": [
        "def forIntersection(lista):\n",
        "  ret = []\n",
        "  i = 0\n",
        "  for _ in range(len(lista)):\n",
        "    ret.append(None)\n",
        "  for u, v, p in lista: \n",
        "      ret[i] = u,v\n",
        "      i = i + 1\n",
        "  return ret "
      ],
      "metadata": {
        "id": "7rK6dUIRaq10"
      },
      "execution_count": 6,
      "outputs": []
    },
    {
      "cell_type": "markdown",
      "source": [
        "This function returns the intersection between the elements of two lists."
      ],
      "metadata": {
        "id": "Rcjxdtyt8lH5"
      }
    },
    {
      "cell_type": "code",
      "source": [
        "def intersection(lst1, lst2):\n",
        "    lst3 = [value for value in lst1 if value in lst2]\n",
        "    return lst3"
      ],
      "metadata": {
        "id": "BA35AXv9aypl"
      },
      "execution_count": 7,
      "outputs": []
    },
    {
      "cell_type": "markdown",
      "source": [
        "This function returns the unique combinations of nodes (u,v) within a graph. It receives the graph as a parameter and returns a list with the combinations described above."
      ],
      "metadata": {
        "id": "NfSwO1h583G6"
      }
    },
    {
      "cell_type": "code",
      "source": [
        "def unique(G):\n",
        "  lis = []\n",
        "  n = len(G.nodes)\n",
        "  i = 0\n",
        "  j = 0 \n",
        "  for _ in range(len(G.nodes)-1):\n",
        "    for _ in range(len(G.nodes)-1):\n",
        "      terna = str(i),str(j)\n",
        "      lis.append(terna)\n",
        "      j = j + 1\n",
        "    j = 0 \n",
        "    i = i + 1\n",
        "  ret = list(tuple(sorted(x)) for x in lis)\n",
        "  return ret"
      ],
      "metadata": {
        "id": "qVRpCnLzDJ0Z"
      },
      "execution_count": 8,
      "outputs": []
    },
    {
      "cell_type": "markdown",
      "source": [
        "common_neighbor_cen(G): This function returns a list to which Common Neighbors have been applied for link prediction."
      ],
      "metadata": {
        "id": "cKiBvyqw9TeB"
      }
    },
    {
      "cell_type": "code",
      "source": [
        "def common_neighbor_cen(G):\n",
        "  unicos = unique(G)\n",
        "  cn_list = []\n",
        "  n = len(unicos)\n",
        "  cont1 = 0\n",
        "  for _ in range(n-1):\n",
        "    dupla = unicos[cont1]\n",
        "    cn = sorted(nx.common_neighbors(G, dupla[0], dupla[1]))\n",
        "    terna = dupla[0],dupla[1],len(cn)\n",
        "    cn_list.append(terna) \n",
        "    cont1 = cont1 + 1\n",
        "  return cn_list"
      ],
      "metadata": {
        "id": "hAnLD4NWgqFM"
      },
      "execution_count": 9,
      "outputs": []
    },
    {
      "cell_type": "markdown",
      "source": [
        "This function returns a list where Jaccard was applied for link prediction."
      ],
      "metadata": {
        "id": "a127ErrA9sur"
      }
    },
    {
      "cell_type": "code",
      "source": [
        "def jaccard_coeff(G):\n",
        "  jc_list = list(nx.jaccard_coefficient(G))\n",
        "  return jc_list"
      ],
      "metadata": {
        "id": "3fIz_i7BqZIX"
      },
      "execution_count": 10,
      "outputs": []
    },
    {
      "cell_type": "markdown",
      "source": [
        "This function returns a list where Adamic/Adar was applied for link prediction."
      ],
      "metadata": {
        "id": "vsWXDUkw96iH"
      }
    },
    {
      "cell_type": "code",
      "source": [
        "def adamic_adar(G):\n",
        "  aa_list = list(nx.adamic_adar_index(G))\n",
        "  return aa_list"
      ],
      "metadata": {
        "id": "Iii9Gf2gua_b"
      },
      "execution_count": 11,
      "outputs": []
    },
    {
      "cell_type": "markdown",
      "source": [
        "This function returns the third element of an associated parameter. It is used to filter down the metric values for link prediction."
      ],
      "metadata": {
        "id": "kaRU_EKC-Jgy"
      }
    },
    {
      "cell_type": "code",
      "source": [
        "def takeThird(elem):\n",
        "    return elem[2]"
      ],
      "metadata": {
        "id": "kbc5hn5LaY5N"
      },
      "execution_count": 12,
      "outputs": []
    },
    {
      "cell_type": "markdown",
      "source": [
        "### (c) Evaluating a link predictor:"
      ],
      "metadata": {
        "id": "ZgdICyJp-reF"
      }
    },
    {
      "cell_type": "markdown",
      "source": [
        "1. Select graph Gfb(V, E) in the Facebook100 dataset."
      ],
      "metadata": {
        "id": "DEqmRk7o_BW8"
      }
    },
    {
      "cell_type": "code",
      "source": [
        "randG = nx.read_graphml('/content/drive/MyDrive/GR/fb100/Caltech36.graphml')"
      ],
      "metadata": {
        "id": "H0wAmBlUvqab"
      },
      "execution_count": 13,
      "outputs": []
    },
    {
      "cell_type": "markdown",
      "source": [
        "2. Randomly remove a given fraction f ∈ [0.05, 0.1, 0.15, 0.2] of edges Eremoved\n",
        "from the original graph Gfb.\n"
      ],
      "metadata": {
        "id": "-Rg__-cU_spy"
      }
    },
    {
      "cell_type": "code",
      "source": [
        "testG,subset_testG = remove_edges(randG,random_percentaje())"
      ],
      "metadata": {
        "colab": {
          "base_uri": "https://localhost:8080/"
        },
        "id": "8qb3w6ZVw0WA",
        "outputId": "2a88786c-8d98-4040-9793-605b03bc0cd7"
      },
      "execution_count": 14,
      "outputs": [
        {
          "output_type": "stream",
          "name": "stdout",
          "text": [
            "Deleted :  2498\n",
            "Remaining :  14158\n"
          ]
        }
      ]
    },
    {
      "cell_type": "markdown",
      "source": [
        "3. For each node pair in the graph |V |×|V |, for each node pair compute the link\n",
        "predictor metrics of interest p, these are the predicted ”friendship” Epredict.\n"
      ],
      "metadata": {
        "id": "ddmwMeR0AGGZ"
      }
    },
    {
      "cell_type": "code",
      "source": [
        "A = jaccard_coeff(testG)\n",
        "B = adamic_adar(testG)\n",
        "C = common_neighbor_cen(testG)"
      ],
      "metadata": {
        "id": "EMYaECvYxQvt"
      },
      "execution_count": 15,
      "outputs": []
    },
    {
      "cell_type": "markdown",
      "source": [
        "4. Sort in decreasing order of confidence as a function p from the node pair\n",
        "Epredict and then we take the first n pairs of nodes E\n",
        "(n)\n",
        "predict.\n"
      ],
      "metadata": {
        "id": "J1ZeACQJATen"
      }
    },
    {
      "cell_type": "code",
      "source": [
        "A.sort(key=takeThird,reverse=True) "
      ],
      "metadata": {
        "id": "X4fm8ON0EG2s"
      },
      "execution_count": 16,
      "outputs": []
    },
    {
      "cell_type": "code",
      "source": [
        "B.sort(key=takeThird,reverse=True) "
      ],
      "metadata": {
        "id": "G0VBs-066vq0"
      },
      "execution_count": 17,
      "outputs": []
    },
    {
      "cell_type": "code",
      "source": [
        "C.sort(key=takeThird,reverse=True)"
      ],
      "metadata": {
        "id": "YoYHaedY6wZE"
      },
      "execution_count": 18,
      "outputs": []
    },
    {
      "cell_type": "code",
      "source": [
        "e_predict_jc = forIntersection(A)\n",
        "e_predict_aa = forIntersection(B)\n",
        "e_predict_cn = forIntersection(C)"
      ],
      "metadata": {
        "id": "8nxtNajDSI1E"
      },
      "execution_count": 19,
      "outputs": []
    },
    {
      "cell_type": "code",
      "source": [
        "n = randint(1,testG.number_of_edges())\n",
        "print(n)\n",
        "e_predict_jc_n = e_predict_jc[0:n]\n",
        "e_predict_aa_n = e_predict_aa[0:n]\n",
        "e_predict_cn_n = e_predict_cn[0:n]"
      ],
      "metadata": {
        "id": "IAj3ssrUdawi",
        "colab": {
          "base_uri": "https://localhost:8080/"
        },
        "outputId": "6b193f54-9625-4c3e-dec8-63cb0da3a35f"
      },
      "execution_count": 74,
      "outputs": [
        {
          "output_type": "stream",
          "name": "stdout",
          "text": [
            "10783\n"
          ]
        }
      ]
    },
    {
      "cell_type": "markdown",
      "source": [
        "5. Compute the size of the intersection between the edge set of removed edges\n",
        "and the edge set of predicted node |Eremoved ∩ E(n)predict|."
      ],
      "metadata": {
        "id": "bwB34PLjAlh1"
      }
    },
    {
      "cell_type": "code",
      "source": [
        "e_removed_inter_e_predict_jc_n = intersection(subset_testG, e_predict_jc_n)\n",
        "e_removed_inter_e_predict_aa_n = intersection(subset_testG, e_predict_aa_n)\n",
        "e_removed_inter_e_predict_cn_n = intersection(subset_testG, e_predict_cn_n)"
      ],
      "metadata": {
        "id": "CxaslSUvSUIZ"
      },
      "execution_count": 76,
      "outputs": []
    },
    {
      "cell_type": "code",
      "source": [
        "print(\"Intersection between edge set of removed edges and the edge set of predicted node using Common Neighbors Metric:\",len(e_removed_inter_e_predict_cn_n))\n",
        "print(\"Intersection between edge set of removed edges and the edge set of predicted node using Jaccard Metric:\",len(e_removed_inter_e_predict_jc_n))\n",
        "print(\"Intersection between edge set of removed edges and the edge set of predicted node using Adamic/Adar Metric:\",len(e_removed_inter_e_predict_aa_n))"
      ],
      "metadata": {
        "colab": {
          "base_uri": "https://localhost:8080/"
        },
        "id": "Q0C1lVdSSezj",
        "outputId": "4d33d500-b282-44bb-e2d7-80b611045cbf"
      },
      "execution_count": 77,
      "outputs": [
        {
          "output_type": "stream",
          "name": "stdout",
          "text": [
            "Intersection between edge set of removed edges and the edge set of predicted node using Common Neighbors Metric: 545\n",
            "Intersection between edge set of removed edges and the edge set of predicted node using Jaccard Metric: 754\n",
            "Intersection between edge set of removed edges and the edge set of predicted node using Adamic/Adar Metric: 753\n"
          ]
        }
      ]
    },
    {
      "cell_type": "markdown",
      "source": [
        "###  (d) Choose a couple of graphs in the facebook100 dataset run and evaluate each link predictor on them, and conclude on the efficiency of the following metrics: Common Neighbors, Jaccard, Adamic/Adar.\n"
      ],
      "metadata": {
        "id": "TpMJvSCiAuoB"
      }
    },
    {
      "cell_type": "code",
      "source": [
        "G1 = nx.read_graphml(\"/content/drive/MyDrive/GR/fb100/Simmons81.graphml\")\n",
        "G2 = nx.read_graphml(\"/content/drive/MyDrive/GR/fb100/Reed98.graphml\")"
      ],
      "metadata": {
        "id": "mPB1saK7gmGV"
      },
      "execution_count": 23,
      "outputs": []
    },
    {
      "cell_type": "code",
      "source": [
        "rG1,subset_rG1 = remove_edges(G1,random_percentaje())"
      ],
      "metadata": {
        "colab": {
          "base_uri": "https://localhost:8080/"
        },
        "id": "cAf2kj8xCS7r",
        "outputId": "e75066c0-1a1d-436a-caa1-eb221550a13a"
      },
      "execution_count": 24,
      "outputs": [
        {
          "output_type": "stream",
          "name": "stdout",
          "text": [
            "Deleted :  3298\n",
            "Remaining :  29690\n"
          ]
        }
      ]
    },
    {
      "cell_type": "code",
      "source": [
        "rG2,subset_rG2 = remove_edges(G2,random_percentaje())"
      ],
      "metadata": {
        "colab": {
          "base_uri": "https://localhost:8080/"
        },
        "id": "_dqE8tUfCpg7",
        "outputId": "412513f3-4dd7-4cf6-9bcf-58561dcf99f0"
      },
      "execution_count": 25,
      "outputs": [
        {
          "output_type": "stream",
          "name": "stdout",
          "text": [
            "Deleted :  3762\n",
            "Remaining :  15050\n"
          ]
        }
      ]
    },
    {
      "cell_type": "code",
      "source": [
        "jc_G1 = jaccard_coeff(rG1)\n",
        "aa_G1 = adamic_adar(rG1)\n",
        "cn_G1 = common_neighbor_cen(rG1)"
      ],
      "metadata": {
        "id": "WGUTxkXKCuoF"
      },
      "execution_count": 26,
      "outputs": []
    },
    {
      "cell_type": "code",
      "source": [
        "jc_G2 = jaccard_coeff(rG2)\n",
        "aa_G2 = adamic_adar(rG2)\n",
        "cn_G2 = common_neighbor_cen(rG2)"
      ],
      "metadata": {
        "id": "iZ2qRGoyDE4r"
      },
      "execution_count": 27,
      "outputs": []
    },
    {
      "cell_type": "code",
      "source": [
        "jc_G1.sort(key=takeThird,reverse=True) "
      ],
      "metadata": {
        "id": "sPvT_ylrHmYI"
      },
      "execution_count": 28,
      "outputs": []
    },
    {
      "cell_type": "code",
      "source": [
        "aa_G1.sort(key=takeThird,reverse=True) "
      ],
      "metadata": {
        "id": "uEsThXCLIPaP"
      },
      "execution_count": 29,
      "outputs": []
    },
    {
      "cell_type": "code",
      "source": [
        "cn_G1.sort(key=takeThird,reverse=True) "
      ],
      "metadata": {
        "id": "eHbUcLVdISAn"
      },
      "execution_count": 30,
      "outputs": []
    },
    {
      "cell_type": "code",
      "source": [
        "jc_G2.sort(key=takeThird,reverse=True) "
      ],
      "metadata": {
        "id": "soFwPMvlITkK"
      },
      "execution_count": 31,
      "outputs": []
    },
    {
      "cell_type": "code",
      "source": [
        "aa_G2.sort(key=takeThird,reverse=True) "
      ],
      "metadata": {
        "id": "4q8ObOk7IWCQ"
      },
      "execution_count": 32,
      "outputs": []
    },
    {
      "cell_type": "code",
      "source": [
        "cn_G2.sort(key=takeThird,reverse=True) "
      ],
      "metadata": {
        "id": "NLKwmi40IYzm"
      },
      "execution_count": 33,
      "outputs": []
    },
    {
      "cell_type": "code",
      "source": [
        "e_predict_jc_G1 = forIntersection(jc_G1)\n",
        "e_predict_aa_G1 = forIntersection(aa_G1)\n",
        "e_predict_cn_G1 = forIntersection(cn_G1)"
      ],
      "metadata": {
        "id": "-jrsA_WlIf53"
      },
      "execution_count": 34,
      "outputs": []
    },
    {
      "cell_type": "code",
      "source": [
        "e_predict_jc_G2 = forIntersection(jc_G2)\n",
        "e_predict_aa_G2 = forIntersection(aa_G2)\n",
        "e_predict_cn_G2 = forIntersection(cn_G2)"
      ],
      "metadata": {
        "id": "HKK7mJQsIyeg"
      },
      "execution_count": 35,
      "outputs": []
    },
    {
      "cell_type": "code",
      "source": [
        "n1 = randint(1,rG1.number_of_edges())\n",
        "print(n1)\n",
        "e_predict_jc_n_G1 = e_predict_jc_G1[0:n]\n",
        "e_predict_aa_n_G1 = e_predict_aa_G1[0:n]\n",
        "e_predict_cn_n_G1 = e_predict_cn_G1[0:n]"
      ],
      "metadata": {
        "colab": {
          "base_uri": "https://localhost:8080/"
        },
        "id": "3KGlO8arI6e_",
        "outputId": "29e9c038-35b5-4928-9aca-e7acc57ccdc6"
      },
      "execution_count": 46,
      "outputs": [
        {
          "output_type": "stream",
          "name": "stdout",
          "text": [
            "15929\n"
          ]
        }
      ]
    },
    {
      "cell_type": "code",
      "source": [
        "n2 = randint(1,rG2.number_of_edges())\n",
        "print(n2)\n",
        "e_predict_jc_n_G2 = e_predict_jc_G2[0:n]\n",
        "e_predict_aa_n_G2 = e_predict_aa_G2[0:n]\n",
        "e_predict_cn_n_G2 = e_predict_cn_G2[0:n]"
      ],
      "metadata": {
        "colab": {
          "base_uri": "https://localhost:8080/"
        },
        "id": "404x1oxCJRwA",
        "outputId": "2126d11d-204b-4e6a-8069-297b0d3219f3"
      },
      "execution_count": 60,
      "outputs": [
        {
          "output_type": "stream",
          "name": "stdout",
          "text": [
            "12385\n"
          ]
        }
      ]
    },
    {
      "cell_type": "code",
      "source": [
        "e_removed_inter_e_predict_jc_n_G1 = intersection(subset_rG1, e_predict_jc_n_G1)\n",
        "e_removed_inter_e_predict_aa_n_G1 = intersection(subset_rG1, e_predict_aa_n_G1)\n",
        "e_removed_inter_e_predict_cn_n_G1 = intersection(subset_rG1, e_predict_cn_n_G1)"
      ],
      "metadata": {
        "id": "xAFJ91ohJcP5"
      },
      "execution_count": 78,
      "outputs": []
    },
    {
      "cell_type": "code",
      "source": [
        "e_removed_inter_e_predict_jc_n_G2 = intersection(subset_rG2, e_predict_jc_n_G2)\n",
        "e_removed_inter_e_predict_aa_n_G2 = intersection(subset_rG2, e_predict_aa_n_G2)\n",
        "e_removed_inter_e_predict_cn_n_G2 = intersection(subset_rG2, e_predict_cn_n_G2)"
      ],
      "metadata": {
        "id": "MCjx0bsrJ6Am"
      },
      "execution_count": 79,
      "outputs": []
    },
    {
      "cell_type": "code",
      "source": [
        "print(\"Intersection between edge set of removed edges and the edge set of predicted node using Common Neighbors Metric in G1:\",len(e_removed_inter_e_predict_cn_n_G1))\n",
        "print(\"Intersection between edge set of removed edges and the edge set of predicted node using Jaccard Metric in G1:\",len(e_removed_inter_e_predict_jc_n_G1))\n",
        "print(\"Intersection between edge set of removed edges and the edge set of predicted node using Adamic/Adar Metric in G1:\",len(e_removed_inter_e_predict_aa_n_G1))"
      ],
      "metadata": {
        "colab": {
          "base_uri": "https://localhost:8080/"
        },
        "id": "98xtYnjSJ_uP",
        "outputId": "ddec2bc5-2b70-4565-9880-618797c78098"
      },
      "execution_count": 80,
      "outputs": [
        {
          "output_type": "stream",
          "name": "stdout",
          "text": [
            "Intersection between edge set of removed edges and the edge set of predicted node using Common Neighbors Metric in G1: 103\n",
            "Intersection between edge set of removed edges and the edge set of predicted node using Jaccard Metric in G1: 237\n",
            "Intersection between edge set of removed edges and the edge set of predicted node using Adamic/Adar Metric in G1: 366\n"
          ]
        }
      ]
    },
    {
      "cell_type": "code",
      "source": [
        "print(\"Intersection between edge set of removed edges and the edge set of predicted node using Common Neighbors Metric in G2:\",len(e_removed_inter_e_predict_cn_n_G2))\n",
        "print(\"Intersection between edge set of removed edges and the edge set of predicted node using Jaccard Metric in G2:\",len(e_removed_inter_e_predict_jc_n_G2))\n",
        "print(\"Intersection between edge set of removed edges and the edge set of predicted node using Adamic/Adar Metric in G2:\",len(e_removed_inter_e_predict_aa_n_G2))"
      ],
      "metadata": {
        "colab": {
          "base_uri": "https://localhost:8080/"
        },
        "id": "M-ewOI7WKNLu",
        "outputId": "49bc7518-1488-4c8e-9f16-94af5848709f"
      },
      "execution_count": 81,
      "outputs": [
        {
          "output_type": "stream",
          "name": "stdout",
          "text": [
            "Intersection between edge set of removed edges and the edge set of predicted node using Common Neighbors Metric in G2: 343\n",
            "Intersection between edge set of removed edges and the edge set of predicted node using Jaccard Metric in G2: 527\n",
            "Intersection between edge set of removed edges and the edge set of predicted node using Adamic/Adar Metric in G2: 506\n"
          ]
        }
      ]
    },
    {
      "cell_type": "markdown",
      "source": [
        "### Analysis"
      ],
      "metadata": {
        "id": "8NEPFSEyLosd"
      }
    },
    {
      "cell_type": "markdown",
      "source": [
        "The results that we are observing are the number of nodes that each of the methods implemented within the nodes that we initially eliminated could predict, there are multiple factors that can alter this score, one of them is the number of nodes, since if we have a lower number of nodes the Common Neighbors method will be more adjusted to our needs since not having so many links is very likely to have a large number of neighbors, on the other hand by having a large number of nodes the Adamic/Adar method fits better to this need and to the interrelationships that exist between the nodes create new connections between the nodes."
      ],
      "metadata": {
        "id": "hBYDaRhno89i"
      }
    },
    {
      "cell_type": "markdown",
      "metadata": {
        "id": "bKAwhghDEKJd"
      },
      "source": [
        "#Question 5: Find missing labels with the label propagation algorithms"
      ]
    },
    {
      "cell_type": "markdown",
      "metadata": {
        "id": "rEdtGwTkJ1EW"
      },
      "source": [
        "##Label Propagation Algorithm"
      ]
    },
    {
      "cell_type": "markdown",
      "source": [
        "We import the necessary libraries"
      ],
      "metadata": {
        "id": "BOy0RKKyz-Bk"
      }
    },
    {
      "cell_type": "code",
      "execution_count": null,
      "metadata": {
        "id": "BjJd-rRpEEJ2"
      },
      "outputs": [],
      "source": [
        "import math\n",
        "from random import seed\n",
        "from random import random"
      ]
    },
    {
      "cell_type": "markdown",
      "source": [
        "The following function normalize the Graph received as parameter"
      ],
      "metadata": {
        "id": "CelWbm2f0Eya"
      }
    },
    {
      "cell_type": "code",
      "execution_count": null,
      "metadata": {
        "id": "E15UNUzwKAOr"
      },
      "outputs": [],
      "source": [
        "def normalize(G):\n",
        "    arrayNetwork = nx.to_numpy_array(G)\n",
        "    sumNetwork = np.sum(arrayNetwork, axis=1)\n",
        "    diagNetwork = np.diag(1./sumNetwork)\n",
        "    return diagNetwork @ arrayNetwork"
      ]
    },
    {
      "cell_type": "markdown",
      "source": [
        "The following functions are the implementation of the label propagation algorithm"
      ],
      "metadata": {
        "id": "qLBg18Ky0sHY"
      }
    },
    {
      "cell_type": "code",
      "execution_count": null,
      "metadata": {
        "id": "DFdMq9xTKRRv"
      },
      "outputs": [],
      "source": [
        "def label_propagation(G, lbp, labels_id, tol=1e-3, max_iter=1000):\n",
        "    norm = normalize(G)\n",
        "    copy_ylabel = lbp.copy()\n",
        "    previous = np.zeros(lbp.shape)\n",
        "\n",
        "    for _ in range(max_iter):\n",
        "        var = np.abs(np.sum(previous - lbp))\n",
        "        \n",
        "        if var < tol:\n",
        "            break\n",
        "        previous = lbp.copy()\n",
        "        lbp = np.dot(norm, previous)\n",
        "        lbp[labels_id] = copy_ylabel[labels_id]\n",
        "        \n",
        "    return lbp"
      ]
    },
    {
      "cell_type": "code",
      "execution_count": null,
      "metadata": {
        "id": "FlR64RzoKmIx"
      },
      "outputs": [],
      "source": [
        "def complete_propagation(G, label, percentage):\n",
        "  N = len(G)\n",
        "\n",
        "  ndvalues = nx.get_node_attributes(G, label)\n",
        "  ulist = list(set( valor for i in ndvalues for valor in ndvalues.values()))\n",
        "  nunique = len(list(ulist))\n",
        "  \n",
        "  per = math.ceil(N*percentage)\n",
        "  lp = np.zeros((N, nunique))\n",
        "  lpbk = np.zeros((N, nunique))\n",
        "  \n",
        "  aprox_vals = []\n",
        "  index = per * math.floor(random() * 1/percentage)\n",
        "  cpindex = index\n",
        "  total = index + per\n",
        "  cnt = 0\n",
        "\n",
        "  for i in ndvalues:\n",
        "    for j in range(nunique):\n",
        "      if ndvalues[i] == ulist[j] and ndvalues[i] != 0 and index < total and index <= cnt:\n",
        "          lp[int(i), j] = 0\n",
        "          lpbk[int(i), j] = 1\n",
        "          aprox_vals.append(cnt)\n",
        "          index = index + 1\n",
        "      elif ndvalues[i] == ulist[j] and ndvalues[i] != 0:\n",
        "        lp[int(i), j] = 1\n",
        "        lpbk[int(i), j] = 1\n",
        "    cnt = cnt + 1\n",
        "\n",
        "  lid = (lp.sum(axis=1) == 1)\n",
        "  lpf = label_propagation(G, lp, lid)\n",
        "\n",
        "  return lpf, lpbk, cpindex, per"
      ]
    },
    {
      "cell_type": "markdown",
      "metadata": {
        "id": "U9OhuQGiMV8u"
      },
      "source": [
        "##Choose a network from The Facebook100 dataset and randomly select 10%, 20%, and 30% of of the node attributes of the network to be removed."
      ]
    },
    {
      "cell_type": "markdown",
      "source": [
        "We load the Duke dataset to be able to compare the final results with the table provided in the PDF of the project "
      ],
      "metadata": {
        "id": "OmB8UfS91W8L"
      }
    },
    {
      "cell_type": "code",
      "execution_count": null,
      "metadata": {
        "id": "vspxrYwDL92E"
      },
      "outputs": [],
      "source": [
        "G5 = nx.read_graphml(\"/content/drive/MyDrive/GR/fb100/Duke14.graphml\")"
      ]
    },
    {
      "cell_type": "markdown",
      "source": [
        "We assign the predicted matrix, the copy of the label, the initial value and the percentage, of each attribute to our local variables"
      ],
      "metadata": {
        "id": "-ClzpMIn3Qdy"
      }
    },
    {
      "cell_type": "markdown",
      "metadata": {
        "id": "1BzHFJe8OFKw"
      },
      "source": [
        "###10%"
      ]
    },
    {
      "cell_type": "markdown",
      "metadata": {
        "id": "QA4a2L93OJ8G"
      },
      "source": [
        ">Dorm"
      ]
    },
    {
      "cell_type": "code",
      "execution_count": null,
      "metadata": {
        "id": "Ib6G8VPIM5qA"
      },
      "outputs": [],
      "source": [
        "d1lp, d1lpbk, d1index, d1percentage = complete_propagation(G5, 'dorm', 0.1)"
      ]
    },
    {
      "cell_type": "markdown",
      "metadata": {
        "id": "j2jhbqFdRf9t"
      },
      "source": [
        ">Major"
      ]
    },
    {
      "cell_type": "code",
      "execution_count": null,
      "metadata": {
        "id": "YBzqP0DHOoZi"
      },
      "outputs": [],
      "source": [
        "m1lp, m1lpbk, m1index, m1percentage = complete_propagation(G5, 'major_index', 0.1)"
      ]
    },
    {
      "cell_type": "markdown",
      "metadata": {
        "id": "Vj0tmLMuRi-2"
      },
      "source": [
        ">Gender"
      ]
    },
    {
      "cell_type": "code",
      "execution_count": null,
      "metadata": {
        "id": "Y97IbgjAQDCC"
      },
      "outputs": [],
      "source": [
        "g1lp, g1lpbk, g1index, g1percentage = complete_propagation(G5, 'gender', 0.1)"
      ]
    },
    {
      "cell_type": "markdown",
      "metadata": {
        "id": "JbJi-dljRm5G"
      },
      "source": [
        "###20%"
      ]
    },
    {
      "cell_type": "markdown",
      "metadata": {
        "id": "zMBt978aSGMX"
      },
      "source": [
        ">Dorm"
      ]
    },
    {
      "cell_type": "code",
      "execution_count": null,
      "metadata": {
        "id": "8_iYhoqjR2Kk"
      },
      "outputs": [],
      "source": [
        "d2lp, d2lpbk, d2index, d2percentage = complete_propagation(G5, 'dorm', 0.2)"
      ]
    },
    {
      "cell_type": "markdown",
      "metadata": {
        "id": "1Knj40sBSK3o"
      },
      "source": [
        ">Major"
      ]
    },
    {
      "cell_type": "code",
      "execution_count": null,
      "metadata": {
        "id": "TBCQZdFwR-ex"
      },
      "outputs": [],
      "source": [
        "m2lp, m2lpbk, m2index, m2percentage = complete_propagation(G5, 'major_index', 0.2)"
      ]
    },
    {
      "cell_type": "markdown",
      "metadata": {
        "id": "_PRv4tfPSIxe"
      },
      "source": [
        ">Gender"
      ]
    },
    {
      "cell_type": "code",
      "execution_count": null,
      "metadata": {
        "id": "pT7l3-o1Ro0w"
      },
      "outputs": [],
      "source": [
        "g2lp, g2lpbk, g2index, g2percentage = complete_propagation(G5, 'gender', 0.2)"
      ]
    },
    {
      "cell_type": "markdown",
      "metadata": {
        "id": "PcGgGHYQShIB"
      },
      "source": [
        "###30%"
      ]
    },
    {
      "cell_type": "markdown",
      "metadata": {
        "id": "49vvNQBxStAn"
      },
      "source": [
        ">Dorm"
      ]
    },
    {
      "cell_type": "code",
      "execution_count": null,
      "metadata": {
        "id": "p4luwq9ISFvo"
      },
      "outputs": [],
      "source": [
        "d3lp, d3lpbk, d3index, d3percentage = complete_propagation(G5, 'dorm', 0.3)"
      ]
    },
    {
      "cell_type": "markdown",
      "metadata": {
        "id": "cr6weynNSxHv"
      },
      "source": [
        ">Major"
      ]
    },
    {
      "cell_type": "code",
      "execution_count": null,
      "metadata": {
        "id": "HFmTEeUfSyw6"
      },
      "outputs": [],
      "source": [
        "m3lp, m3lpbk, m3index, m3percentage = complete_propagation(G5, 'major_index', 0.3)"
      ]
    },
    {
      "cell_type": "markdown",
      "metadata": {
        "id": "LroVWzlKTJR_"
      },
      "source": [
        ">Gender"
      ]
    },
    {
      "cell_type": "code",
      "execution_count": null,
      "metadata": {
        "id": "LLdIZOZPTK0R"
      },
      "outputs": [],
      "source": [
        "g3lp, g3lpbk, g3index, g3percentage = complete_propagation(G5, 'gender', 0.3)"
      ]
    },
    {
      "cell_type": "markdown",
      "metadata": {
        "id": "coGNca0NTcgn"
      },
      "source": [
        "##Mean absolute error and Accuracy score"
      ]
    },
    {
      "cell_type": "markdown",
      "source": [
        "The following function get the acurracy, receives as parameter the predicted matrix, the copy of the label, the initial value and the percentage"
      ],
      "metadata": {
        "id": "1UQSHfrD17Dd"
      }
    },
    {
      "cell_type": "code",
      "execution_count": null,
      "metadata": {
        "id": "RnGnEMl7T6Z5"
      },
      "outputs": [],
      "source": [
        "from sklearn.metrics import mean_absolute_error"
      ]
    },
    {
      "cell_type": "code",
      "execution_count": null,
      "metadata": {
        "id": "OeFenNOATlU3"
      },
      "outputs": [],
      "source": [
        "def get_accuracy(label_predict, label_backup, index, per):\n",
        "  labels_id = (label_backup.sum(axis=1) == 1)\n",
        "  prom = 0\n",
        "  count = index\n",
        "  tot = 0\n",
        "\n",
        "  while (count < (per + index)):\n",
        "    if (labels_id[count]):\n",
        "      tot = tot + 1\n",
        "      acc = 0\n",
        "      greater_val = 0\n",
        "      for value in label_backup[count]:\n",
        "        if value != 0:\n",
        "          break;\n",
        "        acc = acc + 1\n",
        "      for value in label_predict[count]:\n",
        "        if value > greater_val:\n",
        "          greater_val = value\n",
        "      if (label_predict[count][acc] >= (1 /(len(label_predict[count]) -1)) and label_predict[count][acc] >= greater_val):\n",
        "        prom = prom + 1\n",
        "    count = count + 1\n",
        "  return prom/tot"
      ]
    },
    {
      "cell_type": "markdown",
      "source": [
        "We get the accuracy of each attribute according to its percentage"
      ],
      "metadata": {
        "id": "jQTpB2fd2-AX"
      }
    },
    {
      "cell_type": "markdown",
      "metadata": {
        "id": "uFegdOjmVET8"
      },
      "source": [
        "###10%"
      ]
    },
    {
      "cell_type": "markdown",
      "metadata": {
        "id": "pQzdOqUMVUEf"
      },
      "source": [
        ">Dorm"
      ]
    },
    {
      "cell_type": "code",
      "execution_count": null,
      "metadata": {
        "colab": {
          "base_uri": "https://localhost:8080/"
        },
        "id": "h2EHTFeHT7Eg",
        "outputId": "f45df4f2-1bcc-4a20-cf12-4f6577b521dc"
      },
      "outputs": [
        {
          "output_type": "stream",
          "name": "stdout",
          "text": [
            "Accuracy :  0.5561959654178674\n",
            "Mean Absolute Error: \n"
          ]
        },
        {
          "output_type": "execute_result",
          "data": {
            "text/plain": [
              "0.0016669283103000407"
            ]
          },
          "metadata": {},
          "execution_count": 124
        }
      ],
      "source": [
        "d1accuracy = get_accuracy(d1lp, d1lpbk, d1index, d1percentage)\n",
        "print(\"Accuracy : \", d1accuracy)\n",
        "\n",
        "# Mean Absolute Error\n",
        "labels_id = (d1lpbk.sum(axis=1) == 1)\n",
        "print('Mean Absolute Error: ')\n",
        "mean_absolute_error(d1lpbk[labels_id], d1lp[labels_id])"
      ]
    },
    {
      "cell_type": "markdown",
      "metadata": {
        "id": "dFDN3ATDVUQ6"
      },
      "source": [
        ">Major"
      ]
    },
    {
      "cell_type": "code",
      "execution_count": null,
      "metadata": {
        "colab": {
          "base_uri": "https://localhost:8080/"
        },
        "id": "T4MFLVwFVVSg",
        "outputId": "dd3c1594-b651-492a-dda7-0654c2717fe3"
      },
      "outputs": [
        {
          "output_type": "stream",
          "name": "stdout",
          "text": [
            "Accuracy :  0.2892670157068063\n",
            "Mean Absolute Error: \n"
          ]
        },
        {
          "output_type": "execute_result",
          "data": {
            "text/plain": [
              "0.0032475838896609925"
            ]
          },
          "metadata": {},
          "execution_count": 125
        }
      ],
      "source": [
        "m1accuracy = get_accuracy(m1lp, m1lpbk, m1index, m1percentage)\n",
        "print(\"Accuracy : \", m1accuracy)\n",
        "\n",
        "# Mean Absolute Error\n",
        "labels_id = (m1lpbk.sum(axis=1) == 1)\n",
        "print('Mean Absolute Error: ')\n",
        "mean_absolute_error(m1lpbk[labels_id], m1lp[labels_id])"
      ]
    },
    {
      "cell_type": "markdown",
      "metadata": {
        "id": "gRmzij8oVUgP"
      },
      "source": [
        ">Gender"
      ]
    },
    {
      "cell_type": "code",
      "execution_count": null,
      "metadata": {
        "colab": {
          "base_uri": "https://localhost:8080/"
        },
        "id": "6jOkC3DpVbX8",
        "outputId": "a38da4d6-fd9f-4aa8-8173-9aba39477fba"
      },
      "outputs": [
        {
          "output_type": "stream",
          "name": "stdout",
          "text": [
            "Accuracy :  0.6758241758241759\n",
            "Mean Absolute Error: \n"
          ]
        },
        {
          "output_type": "execute_result",
          "data": {
            "text/plain": [
              "0.03286705824333081"
            ]
          },
          "metadata": {},
          "execution_count": 126
        }
      ],
      "source": [
        "g1accuracy = get_accuracy(g1lp, g1lpbk, g1index, g1percentage)\n",
        "print(\"Accuracy : \", g1accuracy)\n",
        "\n",
        "# Mean Absolute Error\n",
        "labels_id = (g1lpbk.sum(axis=1) == 1)\n",
        "print('Mean Absolute Error: ')\n",
        "mean_absolute_error(g1lpbk[labels_id], g1lp[labels_id])"
      ]
    },
    {
      "cell_type": "markdown",
      "metadata": {
        "id": "Tvc7VqocVbv0"
      },
      "source": [
        "###20%"
      ]
    },
    {
      "cell_type": "markdown",
      "metadata": {
        "id": "ngWxjvIPgaOU"
      },
      "source": [
        ">Dorm"
      ]
    },
    {
      "cell_type": "code",
      "execution_count": null,
      "metadata": {
        "colab": {
          "base_uri": "https://localhost:8080/"
        },
        "id": "JXeurNFof_6Y",
        "outputId": "6c861a15-ef80-4648-f1bd-098ca5d14c2c"
      },
      "outputs": [
        {
          "output_type": "stream",
          "name": "stdout",
          "text": [
            "Accuracy :  0.5108695652173914\n",
            "Mean Absolute Error: \n"
          ]
        },
        {
          "output_type": "execute_result",
          "data": {
            "text/plain": [
              "0.00343400582309567"
            ]
          },
          "metadata": {},
          "execution_count": 127
        }
      ],
      "source": [
        "d2accuracy = get_accuracy(d2lp, d2lpbk, d2index, d2percentage)\n",
        "print(\"Accuracy : \", d2accuracy)\n",
        "\n",
        "labels_id = (d2lpbk.sum(axis=1) == 1)\n",
        "print('Mean Absolute Error: ')\n",
        "mean_absolute_error(d2lpbk[labels_id], d2lp[labels_id])"
      ]
    },
    {
      "cell_type": "markdown",
      "metadata": {
        "id": "eWXJwBzogaiU"
      },
      "source": [
        ">Major"
      ]
    },
    {
      "cell_type": "code",
      "execution_count": null,
      "metadata": {
        "colab": {
          "base_uri": "https://localhost:8080/"
        },
        "id": "bZaeIVgCgdgQ",
        "outputId": "f3a774e9-9aaf-46cb-9b8f-2acc7a28a32e"
      },
      "outputs": [
        {
          "output_type": "stream",
          "name": "stdout",
          "text": [
            "Accuracy :  0.25574177529484793\n",
            "Mean Absolute Error: \n"
          ]
        },
        {
          "output_type": "execute_result",
          "data": {
            "text/plain": [
              "0.006590525037691797"
            ]
          },
          "metadata": {},
          "execution_count": 128
        }
      ],
      "source": [
        "m2accuracy = get_accuracy(m2lp, m2lpbk, m2index, m2percentage)\n",
        "print(\"Accuracy : \", m2accuracy)\n",
        "\n",
        "labels_id = (m2lpbk.sum(axis=1) == 1)\n",
        "print('Mean Absolute Error: ')\n",
        "mean_absolute_error(m2lpbk[labels_id], m2lp[labels_id])"
      ]
    },
    {
      "cell_type": "markdown",
      "metadata": {
        "id": "vNWjOvHFgaq-"
      },
      "source": [
        ">Gender"
      ]
    },
    {
      "cell_type": "code",
      "execution_count": null,
      "metadata": {
        "colab": {
          "base_uri": "https://localhost:8080/"
        },
        "id": "mvptGCYyggrw",
        "outputId": "56bcbfb1-ab88-478f-8fba-daabcaad8cc5"
      },
      "outputs": [
        {
          "output_type": "stream",
          "name": "stdout",
          "text": [
            "Accuracy :  0.6782369146005509\n",
            "Mean Absolute Error: \n"
          ]
        },
        {
          "output_type": "execute_result",
          "data": {
            "text/plain": [
              "0.06595445393440955"
            ]
          },
          "metadata": {},
          "execution_count": 129
        }
      ],
      "source": [
        "g2accuracy = get_accuracy(g2lp, g2lpbk, g2index, g2percentage)\n",
        "print(\"Accuracy : \", g2accuracy)\n",
        "\n",
        "labels_id = (g2lpbk.sum(axis=1) == 1)\n",
        "print('Mean Absolute Error: ')\n",
        "mean_absolute_error(g2lpbk[labels_id], g2lp[labels_id])"
      ]
    },
    {
      "cell_type": "markdown",
      "metadata": {
        "id": "GfJIP8bpgqhq"
      },
      "source": [
        "###30%"
      ]
    },
    {
      "cell_type": "markdown",
      "metadata": {
        "id": "sDzMEkvWgt83"
      },
      "source": [
        ">Dorm"
      ]
    },
    {
      "cell_type": "code",
      "execution_count": null,
      "metadata": {
        "colab": {
          "base_uri": "https://localhost:8080/"
        },
        "id": "Eoc-FG9OgobV",
        "outputId": "35e12c00-c4f5-47f5-b84c-a5a84db178a9"
      },
      "outputs": [
        {
          "output_type": "stream",
          "name": "stdout",
          "text": [
            "Accuracy :  0.4787792083929423\n",
            "Mean Absolute Error: \n"
          ]
        },
        {
          "output_type": "execute_result",
          "data": {
            "text/plain": [
              "0.004952369920742225"
            ]
          },
          "metadata": {},
          "execution_count": 130
        }
      ],
      "source": [
        "d3accuracy = get_accuracy(d3lp, d3lpbk, d3index, d3percentage)\n",
        "print(\"Accuracy : \", d3accuracy)\n",
        "\n",
        "labels_id = (d3lpbk.sum(axis=1) == 1)\n",
        "print('Mean Absolute Error: ')\n",
        "mean_absolute_error(d3lpbk[labels_id], d3lp[labels_id])"
      ]
    },
    {
      "cell_type": "markdown",
      "metadata": {
        "id": "C6_d6yb6guDq"
      },
      "source": [
        ">Major"
      ]
    },
    {
      "cell_type": "code",
      "execution_count": null,
      "metadata": {
        "colab": {
          "base_uri": "https://localhost:8080/"
        },
        "id": "V-AnbEsOhHz7",
        "outputId": "b74a900d-0c58-438c-8ee9-958df5e2f7b5"
      },
      "outputs": [
        {
          "output_type": "stream",
          "name": "stdout",
          "text": [
            "Accuracy :  0.25754356141096474\n",
            "Mean Absolute Error: \n"
          ]
        },
        {
          "output_type": "execute_result",
          "data": {
            "text/plain": [
              "0.00991025139908595"
            ]
          },
          "metadata": {},
          "execution_count": 131
        }
      ],
      "source": [
        "m3accuracy = get_accuracy(m3lp, m3lpbk, m3index, m3percentage)\n",
        "print(\"Accuracy : \", m3accuracy)\n",
        "\n",
        "labels_id = (m3lpbk.sum(axis=1) == 1)\n",
        "print('Mean Absolute Error: ')\n",
        "mean_absolute_error(m3lpbk[labels_id], m3lp[labels_id])"
      ]
    },
    {
      "cell_type": "markdown",
      "metadata": {
        "id": "f1fe0jG0guMS"
      },
      "source": [
        ">Gender"
      ]
    },
    {
      "cell_type": "code",
      "execution_count": null,
      "metadata": {
        "colab": {
          "base_uri": "https://localhost:8080/"
        },
        "id": "zGYFTxxFhIL9",
        "outputId": "4424bbf9-f1a2-44b2-ddd8-e8bb57403123"
      },
      "outputs": [
        {
          "output_type": "stream",
          "name": "stdout",
          "text": [
            "Accuracy :  0.6773717238833518\n",
            "Mean Absolute Error: \n"
          ]
        },
        {
          "output_type": "execute_result",
          "data": {
            "text/plain": [
              "0.09871172071968497"
            ]
          },
          "metadata": {},
          "execution_count": 132
        }
      ],
      "source": [
        "g3accuracy = get_accuracy(g3lp, g3lpbk, g3index, g3percentage)\n",
        "print(\"Accuracy : \", g3accuracy)\n",
        "\n",
        "labels_id = (g3lpbk.sum(axis=1) == 1)\n",
        "print('Mean Absolute Error: ')\n",
        "mean_absolute_error(g3lpbk[labels_id], g3lp[labels_id])"
      ]
    },
    {
      "cell_type": "markdown",
      "metadata": {
        "id": "ohSwsp_4hO1Y"
      },
      "source": [
        "###Results"
      ]
    },
    {
      "cell_type": "markdown",
      "source": [
        "Here are the final results of the accuracy for the Duke dataset"
      ],
      "metadata": {
        "id": "YZ79AQ8v2v5w"
      }
    },
    {
      "cell_type": "code",
      "execution_count": null,
      "metadata": {
        "colab": {
          "base_uri": "https://localhost:8080/"
        },
        "id": "-TZa2OanhYxM",
        "outputId": "a1eaaa74-360a-477d-d6f0-50e9abb789b1"
      },
      "outputs": [
        {
          "output_type": "stream",
          "name": "stdout",
          "text": [
            "Fraction Removed\n",
            "\n",
            "10% of Fraction Removed\n",
            "Major:  0.2892670157068063\n",
            "Dorm:  0.5561959654178674\n",
            "Gender:  0.6758241758241759 \n",
            "\n",
            "20% of Fraction Removed\n",
            "Major:  0.25574177529484793\n",
            "Dorm:  0.5108695652173914\n",
            "Gender:  0.6782369146005509 \n",
            "\n",
            "30% of Fraction Removed\n",
            "Major:  0.25754356141096474\n",
            "Dorm:  0.4787792083929423\n",
            "Gender:  0.6773717238833518 \n",
            "\n"
          ]
        }
      ],
      "source": [
        "print(\"Fraction Removed\\n\")\n",
        "print(\"10% of Fraction Removed\")\n",
        "print(\"Major: \", m1accuracy)\n",
        "print(\"Dorm: \", d1accuracy)\n",
        "print(\"Gender: \", g1accuracy,\"\\n\")\n",
        "print(\"20% of Fraction Removed\")\n",
        "print(\"Major: \", m2accuracy)\n",
        "print(\"Dorm: \", d2accuracy)\n",
        "print(\"Gender: \", g2accuracy,\"\\n\")\n",
        "print(\"30% of Fraction Removed\")\n",
        "print(\"Major: \", m3accuracy)\n",
        "print(\"Dorm: \", d3accuracy)\n",
        "print(\"Gender: \", g3accuracy,\"\\n\")"
      ]
    },
    {
      "cell_type": "markdown",
      "metadata": {
        "id": "MVtRtYHEduoG"
      },
      "source": [
        "###Conclusion"
      ]
    },
    {
      "cell_type": "markdown",
      "source": [
        "With the label propagation algorithm we can realize that the labels affect the algorithm a lot, since as we could see in the gender attribute, the results were very good and efficient, since it only had to try to predict two genders, but to fourth and major attributes was a bit more complicated to predict as it had many more tags to use to predict. With the mean absolute error and the accuracy we can realize that while the algorithm has more information about the connections, the percentage of missing values ​​will decrease and the predictions will improve."
      ],
      "metadata": {
        "id": "mUqKcV6SNoda"
      }
    }
  ],
  "metadata": {
    "accelerator": "GPU",
    "colab": {
      "collapsed_sections": [],
      "name": "ProjectGraph.ipynb",
      "provenance": []
    },
    "kernelspec": {
      "display_name": "Python 3",
      "name": "python3"
    },
    "language_info": {
      "name": "python"
    }
  },
  "nbformat": 4,
  "nbformat_minor": 0
}